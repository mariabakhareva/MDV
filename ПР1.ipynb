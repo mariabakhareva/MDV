{
  "nbformat": 4,
  "nbformat_minor": 0,
  "metadata": {
    "colab": {
      "provenance": [],
      "include_colab_link": true
    },
    "kernelspec": {
      "name": "python3",
      "display_name": "Python 3"
    },
    "language_info": {
      "name": "python"
    }
  },
  "cells": [
    {
      "cell_type": "markdown",
      "metadata": {
        "id": "view-in-github",
        "colab_type": "text"
      },
      "source": [
        "<a href=\"https://colab.research.google.com/github/mariabakhareva/MDV/blob/main/%D0%9F%D0%A01.ipynb\" target=\"_parent\"><img src=\"https://colab.research.google.com/assets/colab-badge.svg\" alt=\"Open In Colab\"/></a>"
      ]
    },
    {
      "cell_type": "markdown",
      "source": [
        "Задания к [первой практике](https://colab.research.google.com/drive/1AKldHA9Ib8eQk4yn3yAi-Ffs4EtatPsh?usp=sharing)."
      ],
      "metadata": {
        "id": "H9HGn0hdiJAJ"
      }
    },
    {
      "cell_type": "markdown",
      "source": [
        "### Задание 1\n",
        "\n"
      ],
      "metadata": {
        "id": "BhZbrYzhZO4x"
      }
    },
    {
      "cell_type": "markdown",
      "source": [
        "Сбор данных из ИСУ.\n",
        "\n",
        "Выберите какой-либо факультет, соберите данные по обучающимся на нём группам бакалавров на всех курсах (ИСУ - Учебный процесс - Учебные группы и потоки). Сформируйте таблицу с колонками `группа`, `курс`, `номер_ису`, `фио`. Ответьте на вопросы:\n",
        "\n",
        "1. Одинаковое ли количество групп от курса к курсу?\n",
        "\n",
        "2. Есть ли в вашей выборке однофамильцы (для простоты учитывайте только полное совпадение фамилии)? Если да, выведите этих людей.\n",
        "\n",
        "3. Есть ли в вашей выборке ребята без отчества? Если да, выведите этих людей.\n",
        "\n",
        "4. Найдите курс, на котором меньше всего обучающихся. Выведите значение и номер курса. Если таких курсов несколько, выведите их все.\n",
        "\n",
        "5. Для каждого курса найдите группу, в которой больше всего обучающихся. Выведите тройки (курс, группа, кол-во обучающихся). Если для какого-либо курса таких групп окажется несколько, выведите их все.\n",
        "\n",
        "Старайтесь писать код так, чтобы при изменении наименования факультета ничего не ломалось."
      ],
      "metadata": {
        "id": "YMo4xIzFiYJD"
      }
    },
    {
      "cell_type": "code",
      "source": [
        "# Это необходимо, чтобы запустить код в Google Colab. Источник: https://nariyoo.com/python-how-to-run-selenium-in-google-colab/\n",
        "%%capture\n",
        "%%shell\n",
        "sudo apt -y update\n",
        "sudo apt install -y wget curl unzip\n",
        "wget http://archive.ubuntu.com/ubuntu/pool/main/libu/libu2f-host/libu2f-udev_1.1.4-1_all.deb\n",
        "dpkg -i libu2f-udev_1.1.4-1_all.deb\n",
        "wget https://dl.google.com/linux/direct/google-chrome-stable_current_amd64.deb\n",
        "dpkg -i google-chrome-stable_current_amd64.deb\n",
        "CHROME_DRIVER_VERSION=`curl -sS chromedriver.storage.googleapis.com/LATEST_RELEASE`\n",
        "wget -N https://chromedriver.storage.googleapis.com/$CHROME_DRIVER_VERSION/chromedriver_linux64.zip -P /tmp/\n",
        "unzip -o /tmp/chromedriver_linux64.zip -d /tmp/\n",
        "chmod +x /tmp/chromedriver\n",
        "mv /tmp/chromedriver /usr/local/bin/chromedriver\n",
        "pip install selenium chromedriver-autoinstaller"
      ],
      "metadata": {
        "id": "GaMm2uJao67J"
      },
      "execution_count": null,
      "outputs": []
    },
    {
      "cell_type": "code",
      "source": [
        "import sys\n",
        "import pandas as pd\n",
        "from bs4 import BeautifulSoup\n",
        "from selenium import webdriver\n",
        "from selenium.webdriver.common.by import By\n",
        "from selenium.webdriver.common.keys import Keys\n",
        "from selenium.webdriver.support.ui import WebDriverWait\n",
        "from selenium.webdriver.support import expected_conditions as EC\n",
        "import chromedriver_autoinstaller\n",
        "\n",
        "\n",
        "sys.path.insert(0,'/usr/lib/chromium-browser/chromedriver')\n",
        "\n",
        "chrome_options = webdriver.ChromeOptions()\n",
        "chrome_options.add_argument('--verbose')\n",
        "chrome_options.add_argument('--headless')\n",
        "chrome_options.add_argument('--no-sandbox')\n",
        "chrome_options.add_argument('--disable-gpu')\n",
        "chrome_options.add_argument('--window-size=1920, 1200')\n",
        "chrome_options.add_argument('--disable-dev-shm-usage')\n",
        "\n",
        "chromedriver_autoinstaller.install()\n",
        "driver = webdriver.Chrome(options=chrome_options)  # создание объекта драйвера"
      ],
      "metadata": {
        "id": "nvBeM9bPo67d"
      },
      "execution_count": null,
      "outputs": []
    },
    {
      "cell_type": "code",
      "source": [
        "# вход в ИСУ\n",
        "driver.get(\"https://id.itmo.ru/login\")\n",
        "\n",
        "# подождать, пока подгрузится страница авторизации\n",
        "WebDriverWait(driver, 10).until(\n",
        "    EC.presence_of_element_located((By.ID, \"username\"))  # если случится TimeoutException - перезапустите ячейку\n",
        ")"
      ],
      "metadata": {
        "colab": {
          "base_uri": "https://localhost:8080/"
        },
        "outputId": "fc19147a-354f-49d6-d5e6-62d93896f76d",
        "id": "r12l65Xro67e"
      },
      "execution_count": null,
      "outputs": [
        {
          "output_type": "execute_result",
          "data": {
            "text/plain": [
              "<selenium.webdriver.remote.webelement.WebElement (session=\"8273711a33c54d96440ba5331559a7db\", element=\"7CAE151D604D03546AC2F169AACD7B64_element_13\")>"
            ]
          },
          "metadata": {},
          "execution_count": 51
        }
      ]
    },
    {
      "cell_type": "code",
      "source": [
        "# информация для входа в ИСУ\n",
        "username = ''\n",
        "password = ''\n",
        "\n",
        "# ввод данных для входа\n",
        "username_field = driver.find_element(By.NAME, \"username\")\n",
        "password_field = driver.find_element(By.NAME, \"password\")\n",
        "\n",
        "username_field.send_keys(username)\n",
        "password_field.send_keys(password)\n",
        "password_field.send_keys(Keys.RETURN)"
      ],
      "metadata": {
        "id": "9JL_AHZYo67e"
      },
      "execution_count": null,
      "outputs": []
    },
    {
      "cell_type": "code",
      "source": [
        "target_faculty_name = 'факультет инфокоммуникационных технологий'\n",
        "driver.get('https://isu.ifmo.ru')\n",
        "# driver.page_source - чтобы увидеть содержимое текущей страницы\n",
        "\n",
        "# PUT YOUR CODE HERE"
      ],
      "metadata": {
        "id": "zrjc4k5Jpf2b"
      },
      "execution_count": null,
      "outputs": []
    },
    {
      "cell_type": "markdown",
      "source": [
        "### Задание 2"
      ],
      "metadata": {
        "id": "mim5Mih5jGwK"
      }
    },
    {
      "cell_type": "markdown",
      "source": [
        "Одни из самых ужасных с точки зрения формата представления данные - это данные на сайтах государственных организаций (поликлиники, школы и т.п.). Потренируемся работать с подобными сайтами. Соберем данные за муниципальный этап Всероссийской олимпиады школьников [2022/2023 года по Томской области](http://rcro.tomsk.ru/munitsipal-ny-j-e-tap-vsosh-2022-23-arhiv/).\n",
        "\n",
        "БОльшая часть кода уже написана за вас, однако вам необходимо дополнить функционал по непосредственному извлечению pandas-датафрейма из файлов различного формата (`pdf`, `xlsx`, `docx`), а также посчитать статистические показатели по собранным данным."
      ],
      "metadata": {
        "id": "ppPXfzZ5gO1j"
      }
    },
    {
      "cell_type": "markdown",
      "source": [
        "Изучите данные на сайте - таблицы имеют схожую, хоть и слегка различающуюся, структуру. Приведем извлеченную из каждого файла таблицу к датафрейму с колонками `предмет`, `класс`, `фио`, `баллы`. Если что-либо отсутствует - заполним пустой строкой, если речь идёт не о баллах, иначе нулем. ФИО можно расматривать как склейку через пробел полей \"Фамилия\", \"Имя\" и \"Отчество\" в случае наличия последнего.\n",
        "\n",
        "Обратите внимание, что вы можете менять любую часть кода, добавлять свои функции, а также произвести парсинг полностью вручную (хотя это нежелательно)."
      ],
      "metadata": {
        "id": "R2lOqWbiXr9I"
      }
    },
    {
      "cell_type": "code",
      "source": [
        "!pip install python-docx xls2xlsx img2table[easyocr]"
      ],
      "metadata": {
        "id": "ScmKr6EPnlpF"
      },
      "execution_count": null,
      "outputs": []
    },
    {
      "cell_type": "code",
      "source": [
        "from img2table.document import PDF\n",
        "from img2table.ocr import EasyOCR\n",
        "from xls2xlsx import XLS2XLSX\n",
        "from bs4 import BeautifulSoup\n",
        "import pandas as pd\n",
        "import requests\n",
        "import re\n",
        "from docx import Document\n",
        "\n",
        "\n",
        "easyocr = EasyOCR(lang=[\"ru\"], kw={\"gpu\": False})  # можно использовать любой другой OCR-движок"
      ],
      "metadata": {
        "id": "X6D96bnfXGyJ"
      },
      "execution_count": null,
      "outputs": []
    },
    {
      "cell_type": "code",
      "source": [
        "def get_file_extension(filename):\n",
        "    ext = filename.split('.')[-1]\n",
        "    if ext not in ['xls', 'xlsx', 'pdf', 'docx']:\n",
        "        raise ValueError\n",
        "    return ext\n",
        "\n",
        "\n",
        "def download_file(url, destination):\n",
        "    response = requests.get(url)\n",
        "    if response.status_code == 200:\n",
        "        with open(destination, 'wb') as f:\n",
        "            f.write(response.content)\n",
        "        print(f\"File downloaded successfully to '{destination}'\")\n",
        "    else:\n",
        "        print(f\"Failed to download file from '{url}'\")\n",
        "\n",
        "\n",
        "def convert_xls_to_xlsx(filename):  # конвертация xlsx-файлов устаревшего образца\n",
        "    x2x = XLS2XLSX(filename)\n",
        "    x2x.to_xlsx(filename + \"x\")\n",
        "    return filename\n",
        "\n",
        "\n",
        "def extract_data(subject, grade, filename, ext, verbose=True):\n",
        "    if ext == 'xlx':\n",
        "        ext = 'xlsx'\n",
        "        filename = convert_xls_to_xlsx(filename)\n",
        "\n",
        "    if ext == 'xlsx':\n",
        "        df = parse_xlsx(filename)\n",
        "    elif ext == 'pdf':\n",
        "        df = parse_pdf(filename)\n",
        "    elif ext == 'docx':\n",
        "        df = parse_docx(filename)\n",
        "\n",
        "    # PUT YOUR CODE HERE - приведение разнородных данных к одному виду\n",
        "\n",
        "    if verbose:\n",
        "        print()\n",
        "        display(df)\n",
        "        print()\n",
        "\n",
        "    return df[['предмет', 'класс', 'фио', 'баллы']]\n",
        "\n",
        "\n",
        "def parse_xlsx(filename):\n",
        "    # PUT YOUR CODE HERE\n",
        "    return\n",
        "\n",
        "\n",
        "def parse_docx(filename):\n",
        "    # PUT YOUR CODE HERE\n",
        "    return\n",
        "\n",
        "\n",
        "def parse_pdf(filename):\n",
        "    # PUT YOUR CODE HERE\n",
        "    return"
      ],
      "metadata": {
        "id": "IjAjjOlJXPhZ"
      },
      "execution_count": null,
      "outputs": []
    },
    {
      "cell_type": "markdown",
      "source": [
        "Для простоты будем работать только со следующим списком предметов: экономика, английский язык, математика, биология, информатика и ИКТ. Следующий код менять не нужно."
      ],
      "metadata": {
        "id": "lnnLgeCxYYVA"
      }
    },
    {
      "cell_type": "code",
      "source": [
        "target_subjects = ['Экономика', 'Английский язык', 'Математика', 'Биология', 'Информатика и ИКТ']  # рассмотрим только эти предметы\n",
        "\n",
        "all_dfs = []\n",
        "response = requests.get('http://rcro.tomsk.ru/munitsipal-ny-j-e-tap-vsosh-2022-23-arhiv/')  # результаты муниципального этапа за 2022-2023 год\n",
        "main_table = BeautifulSoup(response.text).find('table').findAll('table')[2]  # основная таблица (см. сайт)\n",
        "\n",
        "for row in main_table.findAll('tr')[1:]:  # первая строка - шапка таблицы\n",
        "    cells = row.findAll('td')\n",
        "\n",
        "    subject = cells[0].text.strip()  # название предмета из таблицы\n",
        "    if subject not in target_subjects:\n",
        "        continue\n",
        "\n",
        "    a_hrefs = cells[-1].findAll('a')\n",
        "    for a_href in a_hrefs:  # ссылки на файлы\n",
        "        grade = re.search(r'\\d+', a_href.text).group(0)\n",
        "        href = a_href.get('href')\n",
        "\n",
        "        ext = get_file_extension(href)\n",
        "        filename = f\"{subject}_{grade}.{ext}\"\n",
        "        download_file(href, filename)  # скачивание файла\n",
        "\n",
        "        extracted_df = extract_data(subject, grade, filename, ext, verbose=True)  # достать данные из файла\n",
        "        all_dfs.append(extracted_df)\n",
        "\n",
        "overall_df = pd.concat(all_dfs, ignore_index=True)\n",
        "overall_df.loc[overall_df['баллы'] == '', 'баллы'] = 0  # фикс для NaN-ов в случае баллов\n",
        "overall_df['баллы'] = overall_df['баллы'].str.replace(',', '.').astype(float)  # конвертация баллов в числовой формат"
      ],
      "metadata": {
        "id": "8xU1vUqaYXzG"
      },
      "execution_count": null,
      "outputs": []
    },
    {
      "cell_type": "markdown",
      "source": [
        "Должно получиться что-то похожее:"
      ],
      "metadata": {
        "id": "JJ7BP9Tyc5zm"
      }
    },
    {
      "cell_type": "code",
      "source": [
        "overall_df"
      ],
      "metadata": {
        "colab": {
          "base_uri": "https://localhost:8080/",
          "height": 423
        },
        "outputId": "6ba03561-db9e-4659-8758-d69031fd0f58",
        "id": "MxrqYEnVc5Ng"
      },
      "execution_count": null,
      "outputs": [
        {
          "output_type": "execute_result",
          "data": {
            "text/plain": [
              "                предмет класс                                фио баллы\n",
              "0             Экономика     9                    Зюбин Владислав    84\n",
              "1             Экономика     9                      Кириллов Иван    74\n",
              "2             Экономика     9                    Телицин Артемий    74\n",
              "3             Экономика     9             Шарабарина  Елизавета     72\n",
              "4             Экономика     9                    Кочетов Дмитрий    67\n",
              "...                 ...   ...                                ...   ...\n",
              "2051  Информатика и ИКТ    11       Писаров Александр Михайлович    81\n",
              "2052  Информатика и ИКТ    11       Фрейдман Павел Александрович    80\n",
              "2053  Информатика и ИКТ    11  Николаева Анастасия Александровна    70\n",
              "2054  Информатика и ИКТ    11           Матвеева Юлия Алексеевна     9\n",
              "2055  Информатика и ИКТ    11            Губин Дмитрий Сергеевич     0\n",
              "\n",
              "[2056 rows x 4 columns]"
            ],
            "text/html": [
              "\n",
              "  <div id=\"df-b345d547-2e05-4bf5-8327-2e1f3dec037e\" class=\"colab-df-container\">\n",
              "    <div>\n",
              "<style scoped>\n",
              "    .dataframe tbody tr th:only-of-type {\n",
              "        vertical-align: middle;\n",
              "    }\n",
              "\n",
              "    .dataframe tbody tr th {\n",
              "        vertical-align: top;\n",
              "    }\n",
              "\n",
              "    .dataframe thead th {\n",
              "        text-align: right;\n",
              "    }\n",
              "</style>\n",
              "<table border=\"1\" class=\"dataframe\">\n",
              "  <thead>\n",
              "    <tr style=\"text-align: right;\">\n",
              "      <th></th>\n",
              "      <th>предмет</th>\n",
              "      <th>класс</th>\n",
              "      <th>фио</th>\n",
              "      <th>баллы</th>\n",
              "    </tr>\n",
              "  </thead>\n",
              "  <tbody>\n",
              "    <tr>\n",
              "      <th>0</th>\n",
              "      <td>Экономика</td>\n",
              "      <td>9</td>\n",
              "      <td>Зюбин Владислав</td>\n",
              "      <td>84</td>\n",
              "    </tr>\n",
              "    <tr>\n",
              "      <th>1</th>\n",
              "      <td>Экономика</td>\n",
              "      <td>9</td>\n",
              "      <td>Кириллов Иван</td>\n",
              "      <td>74</td>\n",
              "    </tr>\n",
              "    <tr>\n",
              "      <th>2</th>\n",
              "      <td>Экономика</td>\n",
              "      <td>9</td>\n",
              "      <td>Телицин Артемий</td>\n",
              "      <td>74</td>\n",
              "    </tr>\n",
              "    <tr>\n",
              "      <th>3</th>\n",
              "      <td>Экономика</td>\n",
              "      <td>9</td>\n",
              "      <td>Шарабарина  Елизавета</td>\n",
              "      <td>72</td>\n",
              "    </tr>\n",
              "    <tr>\n",
              "      <th>4</th>\n",
              "      <td>Экономика</td>\n",
              "      <td>9</td>\n",
              "      <td>Кочетов Дмитрий</td>\n",
              "      <td>67</td>\n",
              "    </tr>\n",
              "    <tr>\n",
              "      <th>...</th>\n",
              "      <td>...</td>\n",
              "      <td>...</td>\n",
              "      <td>...</td>\n",
              "      <td>...</td>\n",
              "    </tr>\n",
              "    <tr>\n",
              "      <th>2051</th>\n",
              "      <td>Информатика и ИКТ</td>\n",
              "      <td>11</td>\n",
              "      <td>Писаров Александр Михайлович</td>\n",
              "      <td>81</td>\n",
              "    </tr>\n",
              "    <tr>\n",
              "      <th>2052</th>\n",
              "      <td>Информатика и ИКТ</td>\n",
              "      <td>11</td>\n",
              "      <td>Фрейдман Павел Александрович</td>\n",
              "      <td>80</td>\n",
              "    </tr>\n",
              "    <tr>\n",
              "      <th>2053</th>\n",
              "      <td>Информатика и ИКТ</td>\n",
              "      <td>11</td>\n",
              "      <td>Николаева Анастасия Александровна</td>\n",
              "      <td>70</td>\n",
              "    </tr>\n",
              "    <tr>\n",
              "      <th>2054</th>\n",
              "      <td>Информатика и ИКТ</td>\n",
              "      <td>11</td>\n",
              "      <td>Матвеева Юлия Алексеевна</td>\n",
              "      <td>9</td>\n",
              "    </tr>\n",
              "    <tr>\n",
              "      <th>2055</th>\n",
              "      <td>Информатика и ИКТ</td>\n",
              "      <td>11</td>\n",
              "      <td>Губин Дмитрий Сергеевич</td>\n",
              "      <td>0</td>\n",
              "    </tr>\n",
              "  </tbody>\n",
              "</table>\n",
              "<p>2056 rows × 4 columns</p>\n",
              "</div>\n",
              "    <div class=\"colab-df-buttons\">\n",
              "\n",
              "  <div class=\"colab-df-container\">\n",
              "    <button class=\"colab-df-convert\" onclick=\"convertToInteractive('df-b345d547-2e05-4bf5-8327-2e1f3dec037e')\"\n",
              "            title=\"Convert this dataframe to an interactive table.\"\n",
              "            style=\"display:none;\">\n",
              "\n",
              "  <svg xmlns=\"http://www.w3.org/2000/svg\" height=\"24px\" viewBox=\"0 -960 960 960\">\n",
              "    <path d=\"M120-120v-720h720v720H120Zm60-500h600v-160H180v160Zm220 220h160v-160H400v160Zm0 220h160v-160H400v160ZM180-400h160v-160H180v160Zm440 0h160v-160H620v160ZM180-180h160v-160H180v160Zm440 0h160v-160H620v160Z\"/>\n",
              "  </svg>\n",
              "    </button>\n",
              "\n",
              "  <style>\n",
              "    .colab-df-container {\n",
              "      display:flex;\n",
              "      gap: 12px;\n",
              "    }\n",
              "\n",
              "    .colab-df-convert {\n",
              "      background-color: #E8F0FE;\n",
              "      border: none;\n",
              "      border-radius: 50%;\n",
              "      cursor: pointer;\n",
              "      display: none;\n",
              "      fill: #1967D2;\n",
              "      height: 32px;\n",
              "      padding: 0 0 0 0;\n",
              "      width: 32px;\n",
              "    }\n",
              "\n",
              "    .colab-df-convert:hover {\n",
              "      background-color: #E2EBFA;\n",
              "      box-shadow: 0px 1px 2px rgba(60, 64, 67, 0.3), 0px 1px 3px 1px rgba(60, 64, 67, 0.15);\n",
              "      fill: #174EA6;\n",
              "    }\n",
              "\n",
              "    .colab-df-buttons div {\n",
              "      margin-bottom: 4px;\n",
              "    }\n",
              "\n",
              "    [theme=dark] .colab-df-convert {\n",
              "      background-color: #3B4455;\n",
              "      fill: #D2E3FC;\n",
              "    }\n",
              "\n",
              "    [theme=dark] .colab-df-convert:hover {\n",
              "      background-color: #434B5C;\n",
              "      box-shadow: 0px 1px 3px 1px rgba(0, 0, 0, 0.15);\n",
              "      filter: drop-shadow(0px 1px 2px rgba(0, 0, 0, 0.3));\n",
              "      fill: #FFFFFF;\n",
              "    }\n",
              "  </style>\n",
              "\n",
              "    <script>\n",
              "      const buttonEl =\n",
              "        document.querySelector('#df-b345d547-2e05-4bf5-8327-2e1f3dec037e button.colab-df-convert');\n",
              "      buttonEl.style.display =\n",
              "        google.colab.kernel.accessAllowed ? 'block' : 'none';\n",
              "\n",
              "      async function convertToInteractive(key) {\n",
              "        const element = document.querySelector('#df-b345d547-2e05-4bf5-8327-2e1f3dec037e');\n",
              "        const dataTable =\n",
              "          await google.colab.kernel.invokeFunction('convertToInteractive',\n",
              "                                                    [key], {});\n",
              "        if (!dataTable) return;\n",
              "\n",
              "        const docLinkHtml = 'Like what you see? Visit the ' +\n",
              "          '<a target=\"_blank\" href=https://colab.research.google.com/notebooks/data_table.ipynb>data table notebook</a>'\n",
              "          + ' to learn more about interactive tables.';\n",
              "        element.innerHTML = '';\n",
              "        dataTable['output_type'] = 'display_data';\n",
              "        await google.colab.output.renderOutput(dataTable, element);\n",
              "        const docLink = document.createElement('div');\n",
              "        docLink.innerHTML = docLinkHtml;\n",
              "        element.appendChild(docLink);\n",
              "      }\n",
              "    </script>\n",
              "  </div>\n",
              "\n",
              "\n",
              "<div id=\"df-970c8542-48ea-4240-854f-64d4d80b51aa\">\n",
              "  <button class=\"colab-df-quickchart\" onclick=\"quickchart('df-970c8542-48ea-4240-854f-64d4d80b51aa')\"\n",
              "            title=\"Suggest charts\"\n",
              "            style=\"display:none;\">\n",
              "\n",
              "<svg xmlns=\"http://www.w3.org/2000/svg\" height=\"24px\"viewBox=\"0 0 24 24\"\n",
              "     width=\"24px\">\n",
              "    <g>\n",
              "        <path d=\"M19 3H5c-1.1 0-2 .9-2 2v14c0 1.1.9 2 2 2h14c1.1 0 2-.9 2-2V5c0-1.1-.9-2-2-2zM9 17H7v-7h2v7zm4 0h-2V7h2v10zm4 0h-2v-4h2v4z\"/>\n",
              "    </g>\n",
              "</svg>\n",
              "  </button>\n",
              "\n",
              "<style>\n",
              "  .colab-df-quickchart {\n",
              "      --bg-color: #E8F0FE;\n",
              "      --fill-color: #1967D2;\n",
              "      --hover-bg-color: #E2EBFA;\n",
              "      --hover-fill-color: #174EA6;\n",
              "      --disabled-fill-color: #AAA;\n",
              "      --disabled-bg-color: #DDD;\n",
              "  }\n",
              "\n",
              "  [theme=dark] .colab-df-quickchart {\n",
              "      --bg-color: #3B4455;\n",
              "      --fill-color: #D2E3FC;\n",
              "      --hover-bg-color: #434B5C;\n",
              "      --hover-fill-color: #FFFFFF;\n",
              "      --disabled-bg-color: #3B4455;\n",
              "      --disabled-fill-color: #666;\n",
              "  }\n",
              "\n",
              "  .colab-df-quickchart {\n",
              "    background-color: var(--bg-color);\n",
              "    border: none;\n",
              "    border-radius: 50%;\n",
              "    cursor: pointer;\n",
              "    display: none;\n",
              "    fill: var(--fill-color);\n",
              "    height: 32px;\n",
              "    padding: 0;\n",
              "    width: 32px;\n",
              "  }\n",
              "\n",
              "  .colab-df-quickchart:hover {\n",
              "    background-color: var(--hover-bg-color);\n",
              "    box-shadow: 0 1px 2px rgba(60, 64, 67, 0.3), 0 1px 3px 1px rgba(60, 64, 67, 0.15);\n",
              "    fill: var(--button-hover-fill-color);\n",
              "  }\n",
              "\n",
              "  .colab-df-quickchart-complete:disabled,\n",
              "  .colab-df-quickchart-complete:disabled:hover {\n",
              "    background-color: var(--disabled-bg-color);\n",
              "    fill: var(--disabled-fill-color);\n",
              "    box-shadow: none;\n",
              "  }\n",
              "\n",
              "  .colab-df-spinner {\n",
              "    border: 2px solid var(--fill-color);\n",
              "    border-color: transparent;\n",
              "    border-bottom-color: var(--fill-color);\n",
              "    animation:\n",
              "      spin 1s steps(1) infinite;\n",
              "  }\n",
              "\n",
              "  @keyframes spin {\n",
              "    0% {\n",
              "      border-color: transparent;\n",
              "      border-bottom-color: var(--fill-color);\n",
              "      border-left-color: var(--fill-color);\n",
              "    }\n",
              "    20% {\n",
              "      border-color: transparent;\n",
              "      border-left-color: var(--fill-color);\n",
              "      border-top-color: var(--fill-color);\n",
              "    }\n",
              "    30% {\n",
              "      border-color: transparent;\n",
              "      border-left-color: var(--fill-color);\n",
              "      border-top-color: var(--fill-color);\n",
              "      border-right-color: var(--fill-color);\n",
              "    }\n",
              "    40% {\n",
              "      border-color: transparent;\n",
              "      border-right-color: var(--fill-color);\n",
              "      border-top-color: var(--fill-color);\n",
              "    }\n",
              "    60% {\n",
              "      border-color: transparent;\n",
              "      border-right-color: var(--fill-color);\n",
              "    }\n",
              "    80% {\n",
              "      border-color: transparent;\n",
              "      border-right-color: var(--fill-color);\n",
              "      border-bottom-color: var(--fill-color);\n",
              "    }\n",
              "    90% {\n",
              "      border-color: transparent;\n",
              "      border-bottom-color: var(--fill-color);\n",
              "    }\n",
              "  }\n",
              "</style>\n",
              "\n",
              "  <script>\n",
              "    async function quickchart(key) {\n",
              "      const quickchartButtonEl =\n",
              "        document.querySelector('#' + key + ' button');\n",
              "      quickchartButtonEl.disabled = true;  // To prevent multiple clicks.\n",
              "      quickchartButtonEl.classList.add('colab-df-spinner');\n",
              "      try {\n",
              "        const charts = await google.colab.kernel.invokeFunction(\n",
              "            'suggestCharts', [key], {});\n",
              "      } catch (error) {\n",
              "        console.error('Error during call to suggestCharts:', error);\n",
              "      }\n",
              "      quickchartButtonEl.classList.remove('colab-df-spinner');\n",
              "      quickchartButtonEl.classList.add('colab-df-quickchart-complete');\n",
              "    }\n",
              "    (() => {\n",
              "      let quickchartButtonEl =\n",
              "        document.querySelector('#df-970c8542-48ea-4240-854f-64d4d80b51aa button');\n",
              "      quickchartButtonEl.style.display =\n",
              "        google.colab.kernel.accessAllowed ? 'block' : 'none';\n",
              "    })();\n",
              "  </script>\n",
              "</div>\n",
              "    </div>\n",
              "  </div>\n"
            ]
          },
          "metadata": {},
          "execution_count": 11
        }
      ]
    },
    {
      "cell_type": "markdown",
      "source": [
        "Постройте сводную таблицу - по каждому предмету для каждого класса посчитайте минимальный балл, средний балл, медианный балл, а также максимальный балл.\n",
        "\n",
        "Посмотрите на результаты по информатике. О чём могут свидетельствовать подобные цифры?"
      ],
      "metadata": {
        "id": "-3M1BA4lak-e"
      }
    },
    {
      "cell_type": "code",
      "source": [
        "overall_df['баллы'] = overall_df['баллы'].apply(lambda val: float(str(val).replace(',', '.')))  # конвертация баллов в числовой формат\n",
        "\n",
        "# PUT YOUR CODE HERE"
      ],
      "metadata": {
        "id": "wRZkO6gZdFrp"
      },
      "execution_count": null,
      "outputs": []
    }
  ]
}