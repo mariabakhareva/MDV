{
  "nbformat": 4,
  "nbformat_minor": 0,
  "metadata": {
    "colab": {
      "provenance": [],
      "include_colab_link": true
    },
    "kernelspec": {
      "name": "python3",
      "display_name": "Python 3"
    },
    "language_info": {
      "name": "python"
    }
  },
  "cells": [
    {
      "cell_type": "markdown",
      "metadata": {
        "id": "view-in-github",
        "colab_type": "text"
      },
      "source": [
        "<a href=\"https://colab.research.google.com/github/mariabakhareva/MDV/blob/main/%D0%9F%D1%80%D0%B0%D0%BA%D1%82%D0%B8%D1%87%D0%B5%D1%81%D0%BA%D0%B0%D1%8F_%D1%80%D0%B0%D0%B1%D0%BE%D1%82%D0%B0_1.ipynb\" target=\"_parent\"><img src=\"https://colab.research.google.com/assets/colab-badge.svg\" alt=\"Open In Colab\"/></a>"
      ]
    },
    {
      "cell_type": "markdown",
      "source": [
        "Для выполнения заданий возьмите данные из папки [data](https://drive.google.com/drive/folders/17E4vB5kWr5FNjLKRU4XGoJSVTxn1jkg4?usp=sharing) о продажах. Данные распределены по 4 файлам:\n",
        "* sales_train.csv - данные о продажах с января 2013 по октябрь 2015.\n",
        "** date - дата продажи\n",
        "** date_block_num - номер месяца по порядку следования\n",
        "** shop_id - идентификатор магазина\n",
        "** item_id - идентификатор товара\n",
        "** item_price - цена товара\n",
        "** item_cnt_day - количество проданного товара одного вида в день\n",
        "\n",
        "* items.csv - подробная информация о товарах\n",
        "** item_id - идентификатор товара\n",
        "** item_name - название товара\n",
        "** category_id - идентификатор категории товара\n",
        "\n",
        "* item_categories.csv - подробная информация о категориях товаров\n",
        "** item_category_id - идентификатор категории товара\n",
        "** category_name - название категории товара\n",
        "\n",
        "* shops.csv - подробная информация о магазинах\n",
        "** shop_id - идентификатор магазина\n",
        "** shop_name - название магазина\n"
      ],
      "metadata": {
        "id": "gXG3QdhVLmkk"
      }
    },
    {
      "cell_type": "markdown",
      "source": [
        "# Задание 1 (3 балла)"
      ],
      "metadata": {
        "id": "X5oEdrHBJ9t8"
      }
    },
    {
      "cell_type": "markdown",
      "source": [
        "1. Возьмите 10 000 случайных строк из таблицы sales_train и найдите в них долю товаров из категории 37.\n",
        "2. Найдите самый удачный по общему количеству продаж день для магазина St. Petersburg Nevsky Center shopping center за 2014 год.\n",
        "3. Есть ли товар, который продается успешнее всех остальных (по ежемесячному количеству) во всех магазинах?"
      ],
      "metadata": {
        "id": "8tjm8ZhmKCDv"
      }
    },
    {
      "cell_type": "code",
      "execution_count": null,
      "metadata": {
        "id": "6rgJ4XhoJwgW"
      },
      "outputs": [],
      "source": [
        "# PUT YOUR CODE HERE"
      ]
    },
    {
      "cell_type": "markdown",
      "source": [
        "# Задание 2 (2 балла)"
      ],
      "metadata": {
        "id": "S6q5NDoCtO_F"
      }
    },
    {
      "cell_type": "markdown",
      "source": [
        "1. Найдите топ-10 самых часто покупаемых товаров (не забудьте учесть столбец item_cnt_day).\n",
        "2. Оставьте только те из них, которые покупали все три года (2013, 2014, 2015)."
      ],
      "metadata": {
        "id": "dzuPVpMztO_F"
      }
    },
    {
      "cell_type": "code",
      "execution_count": null,
      "metadata": {
        "id": "DLGUVxaDtO_F"
      },
      "outputs": [],
      "source": [
        "# PUT YOUR CODE HERE"
      ]
    },
    {
      "cell_type": "markdown",
      "source": [
        "# Задание 3 (3 балла)"
      ],
      "metadata": {
        "id": "oaood23UKK5e"
      }
    },
    {
      "cell_type": "markdown",
      "source": [
        "> При выполнении на pandas не используйте merge().\n",
        "\n",
        "1. Определите категорию товаров, в которой совершается минимальное число покупок. Выведите айди и название категории.\n",
        "2. Определите категорию товаров, в которой совершается максимальное число покупок. Выведите айди и название категории.\n",
        "\n",
        "*Если таких категорий несколько, выведите все.*"
      ],
      "metadata": {
        "id": "6fKaQTb0KK5f"
      }
    },
    {
      "cell_type": "code",
      "execution_count": null,
      "metadata": {
        "id": "bc9NvOGjKK5g"
      },
      "outputs": [],
      "source": [
        "# PUT YOUR CODE HERE"
      ]
    },
    {
      "cell_type": "markdown",
      "source": [
        "# Задание 4 (3 балла)"
      ],
      "metadata": {
        "id": "a99rnQRwKLLR"
      }
    },
    {
      "cell_type": "markdown",
      "source": [
        "1. Для категорий из задания 3 найдите среднее количество продаж каждого товара категории в 5 магазинах с наибольшими продажами. Оставьте в таблице только те товары, среднее количество продаж которых строго больше 100.\n",
        "2. Найдите месяц с максимальными продажами для каждого товара из пункта 1.\n"
      ],
      "metadata": {
        "id": "sxh1WWITKLLS"
      }
    },
    {
      "cell_type": "code",
      "execution_count": null,
      "metadata": {
        "id": "MoRKW5P3KLLS"
      },
      "outputs": [],
      "source": [
        "# PUT YOUR CODE HERE"
      ]
    },
    {
      "cell_type": "markdown",
      "source": [
        "# Задание 5 (3 балла)"
      ],
      "metadata": {
        "id": "d11G2DP4KLUy"
      }
    },
    {
      "cell_type": "markdown",
      "source": [
        "1. Для категорий из задания 3 найдите среднюю и медианную цену по категории в пределах каждого месяца. Выведите топ-10 товаров по медиане из каждой категории.\n",
        "2. В каждом году найдите месяцы, в которых средняя цена меньше, чем в предыдущем и следующем месяце."
      ],
      "metadata": {
        "id": "RX3FC6lbKLUz"
      }
    },
    {
      "cell_type": "code",
      "execution_count": null,
      "metadata": {
        "id": "zpwSYpteKLU0"
      },
      "outputs": [],
      "source": [
        "# PUT YOUR CODE HERE"
      ]
    }
  ]
}